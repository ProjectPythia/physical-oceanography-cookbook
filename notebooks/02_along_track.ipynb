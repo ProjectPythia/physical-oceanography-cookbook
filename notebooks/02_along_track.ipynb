{
 "cells": [
  {
   "cell_type": "markdown",
   "metadata": {},
   "source": [
    "<img src=\"images/ProjectPythia_Logo_Final-01-Blue.svg\" width=250 alt=\"Project Pythia Logo\"></img>"
   ]
  },
  {
   "cell_type": "markdown",
   "metadata": {},
   "source": [
    "# Along Track Altimetry Analysis"
   ]
  },
  {
   "cell_type": "markdown",
   "metadata": {},
   "source": [
    "---"
   ]
  },
  {
   "cell_type": "markdown",
   "metadata": {},
   "source": [
    "## Overview\n",
    "\n",
    "1. Using CNES altimetry data\n",
    "1. Visualizing data using hvplot\n",
    "1. Use xhistogram to plot multidimensional data"
   ]
  },
  {
   "cell_type": "markdown",
   "metadata": {},
   "source": [
    "## Prerequisites\n",
    "\n",
    "| Concepts | Importance | Notes |\n",
    "| --- | --- | --- |\n",
    "| [Intro to Pandas](https://foundations.projectpythia.org/core/pandas/pandas.html) | Helpful | |\n",
    "| [Using hvplot](https://hvplot.holoviz.org) | Helpful | Matplotlib knowledge also helpful |\n",
    "| [Dask](https://docs.dask.org/en/stable/) | Helpful | |\n",
    "| [xhistogram](https://xhistogram.readthedocs.io/en/latest/) | Helpful | |\n",
    "\n",
    "- **Time to learn**: 15 minutes"
   ]
  },
  {
   "cell_type": "markdown",
   "metadata": {},
   "source": [
    "## Imports"
   ]
  },
  {
   "cell_type": "markdown",
   "metadata": {},
   "source": [
    "---"
   ]
  },
  {
   "cell_type": "code",
   "execution_count": null,
   "metadata": {},
   "outputs": [],
   "source": [
    "import fsspec\n",
    "import xarray as xr\n",
    "import numpy as np\n",
    "import hvplot\n",
    "import hvplot.dask\n",
    "import hvplot.pandas\n",
    "import hvplot.xarray\n",
    "from xhistogram.xarray import histogram"
   ]
  },
  {
   "cell_type": "markdown",
   "metadata": {},
   "source": [
    "## Load Data\n",
    "\n",
    "The analysis ready along-track altimetry data were prepared by CNES. They are catalogged in the Pangeo Cloud Data Catalog here: https://catalog.pangeo.io/browse/master/ocean/altimetry/\n",
    "\n",
    "We will work with Jason 3."
   ]
  },
  {
   "cell_type": "code",
   "execution_count": 1,
   "metadata": {},
   "outputs": [
    {
     "ename": "ModuleNotFoundError",
     "evalue": "No module named 'intake'",
     "output_type": "error",
     "traceback": [
      "\u001b[0;31m---------------------------------------------------------------------------\u001b[0m",
      "\u001b[0;31mModuleNotFoundError\u001b[0m                       Traceback (most recent call last)",
      "\u001b[1;32m/Users/dquint/Desktop/physical-oceanography-cookbook/notebooks/02_along_track.ipynb Cell 10'\u001b[0m in \u001b[0;36m<cell line: 1>\u001b[0;34m()\u001b[0m\n\u001b[0;32m----> <a href='vscode-notebook-cell:/Users/dquint/Desktop/physical-oceanography-cookbook/notebooks/02_along_track.ipynb#ch0000009?line=0'>1</a>\u001b[0m \u001b[39mfrom\u001b[39;00m \u001b[39mintake\u001b[39;00m \u001b[39mimport\u001b[39;00m open_catalog\n\u001b[1;32m      <a href='vscode-notebook-cell:/Users/dquint/Desktop/physical-oceanography-cookbook/notebooks/02_along_track.ipynb#ch0000009?line=1'>2</a>\u001b[0m cat \u001b[39m=\u001b[39m open_catalog(\u001b[39m\"\u001b[39m\u001b[39mhttps://raw.githubusercontent.com/pangeo-data/pangeo-datastore/master/intake-catalogs/ocean/altimetry.yaml\u001b[39m\u001b[39m\"\u001b[39m)\n\u001b[1;32m      <a href='vscode-notebook-cell:/Users/dquint/Desktop/physical-oceanography-cookbook/notebooks/02_along_track.ipynb#ch0000009?line=2'>3</a>\u001b[0m \u001b[39mprint\u001b[39m(\u001b[39mlist\u001b[39m(cat))\n",
      "\u001b[0;31mModuleNotFoundError\u001b[0m: No module named 'intake'"
     ]
    }
   ],
   "source": [
    "from intake import open_catalog\n",
    "cat = open_catalog(\"https://raw.githubusercontent.com/pangeo-data/pangeo-datastore/master/intake-catalogs/ocean/altimetry.yaml\")\n",
    "print(list(cat))\n",
    "ds = cat['j3'].to_dask()\n",
    "ds"
   ]
  },
  {
   "cell_type": "markdown",
   "metadata": {},
   "source": [
    "Load somed data into memory:"
   ]
  },
  {
   "cell_type": "code",
   "execution_count": null,
   "metadata": {},
   "outputs": [],
   "source": [
    "ds_ll = ds[['latitude', 'longitude', 'sla_filtered']].reset_coords().astype('f4').load()\n",
    "ds_ll"
   ]
  },
  {
   "cell_type": "markdown",
   "metadata": {},
   "source": [
    "Convert to pandas dataframe:"
   ]
  },
  {
   "cell_type": "code",
   "execution_count": null,
   "metadata": {},
   "outputs": [],
   "source": [
    "df = ds_ll.to_dataframe()\n",
    "df"
   ]
  },
  {
   "cell_type": "markdown",
   "metadata": {},
   "source": [
    "## Visualize with hvplot"
   ]
  },
  {
   "cell_type": "code",
   "execution_count": null,
   "metadata": {},
   "outputs": [],
   "source": [
    "df.hvplot.scatter(x='longitude', y='latitude', datashade=True)"
   ]
  },
  {
   "cell_type": "markdown",
   "metadata": {},
   "source": [
    "## Bin using xhistogram"
   ]
  },
  {
   "cell_type": "code",
   "execution_count": null,
   "metadata": {},
   "outputs": [],
   "source": [
    "lon_bins = np.arange(0, 361, 2)\n",
    "lat_bins = np.arange(-70, 71, 2)\n",
    "\n",
    "# helps with memory management\n",
    "ds_ll_chunked = ds_ll.chunk({'time': '5MB'})\n",
    "\n",
    "sla_variance = histogram(ds_ll_chunked.longitude, ds_ll_chunked.latitude,\n",
    "                         bins=[lon_bins, lat_bins],\n",
    "                         weights=ds_ll_chunked.sla_filtered.fillna(0.)**2)\n",
    "\n",
    "norm = histogram(ds_ll_chunked.longitude, ds_ll_chunked.latitude,\n",
    "                         bins=[lon_bins, lat_bins])\n",
    "\n",
    "\n",
    "# let's get at least 200 points in a box for it to be unmasked\n",
    "thresh = 200\n",
    "sla_variance = sla_variance / norm.where(norm > thresh)\n",
    "sla_variance"
   ]
  },
  {
   "cell_type": "code",
   "execution_count": null,
   "metadata": {},
   "outputs": [],
   "source": [
    "sla_variance.load()"
   ]
  },
  {
   "cell_type": "code",
   "execution_count": null,
   "metadata": {},
   "outputs": [],
   "source": [
    "sla_variance.plot(x='longitude_bin', figsize=(12, 6), vmax=0.2)"
   ]
  },
  {
   "cell_type": "markdown",
   "metadata": {},
   "source": [
    "## Summary"
   ]
  },
  {
   "cell_type": "markdown",
   "metadata": {},
   "source": [
    "---"
   ]
  },
  {
   "cell_type": "markdown",
   "metadata": {},
   "source": [
    " then conclude with a brief single paragraph summarizing at a high level the key pieces that were learned and how they tied to your objectives. Look to reiterate what the most important takeaways were.\n",
    "\n",
    "### What's next?\n",
    "CESM_MOM6.ipynb"
   ]
  },
  {
   "cell_type": "markdown",
   "metadata": {},
   "source": [
    "## Resources and references\n",
    " - This notebook is based on the Pangeo physical oceanography gallery example: https://gallery.pangeo.io/repos/pangeo-gallery/physical-oceanography/02_along_track.html"
   ]
  },
  {
   "cell_type": "markdown",
   "metadata": {},
   "source": []
  }
 ],
 "metadata": {
  "interpreter": {
   "hash": "b69aafa6ae0f1ee3b353273515d208690be9963f9396d970b6e02ccbd7d3e2ec"
  },
  "kernelspec": {
   "display_name": "Python 3.8.13 ('geocat-examples')",
   "language": "python",
   "name": "python3"
  },
  "language_info": {
   "codemirror_mode": {
    "name": "ipython",
    "version": 3
   },
   "file_extension": ".py",
   "mimetype": "text/x-python",
   "name": "python",
   "nbconvert_exporter": "python",
   "pygments_lexer": "ipython3",
   "version": "3.8.13"
  }
 },
 "nbformat": 4,
 "nbformat_minor": 4
}

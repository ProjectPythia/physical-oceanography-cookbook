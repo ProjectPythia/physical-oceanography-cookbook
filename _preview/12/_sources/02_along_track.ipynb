{
 "cells": [
  {
   "cell_type": "markdown",
   "metadata": {},
   "source": [
    "# Along Track Altimetry Analysis"
   ]
  },
  {
   "cell_type": "code",
   "execution_count": null,
   "metadata": {},
   "outputs": [],
   "source": [
    "import fsspec\n",
    "import xarray as xr\n",
    "import numpy as np\n",
    "import hvplot\n",
    "import hvplot.dask\n",
    "import hvplot.pandas\n",
    "import hvplot.xarray"
   ]
  },
  {
   "cell_type": "markdown",
   "metadata": {},
   "source": [
    "## Load Data\n",
    "\n",
    "The analysis ready along-track altimetry data were prepared by CNES. They are catalogged in the Pangeo Cloud Data Catalog here: https://catalog.pangeo.io/browse/master/ocean/altimetry/\n",
    "\n",
    "We work with Jason 3."
   ]
  },
  {
   "cell_type": "code",
   "execution_count": null,
   "metadata": {},
   "outputs": [],
   "source": [
    "from intake import open_catalog\n",
    "cat = open_catalog(\"https://raw.githubusercontent.com/pangeo-data/pangeo-datastore/master/intake-catalogs/ocean/altimetry.yaml\")\n",
    "print(list(cat))\n",
    "ds = cat['j3'].to_dask()\n",
    "ds"
   ]
  },
  {
   "cell_type": "markdown",
   "metadata": {},
   "source": [
    "Load somed data into memory:"
   ]
  },
  {
   "cell_type": "code",
   "execution_count": null,
   "metadata": {},
   "outputs": [],
   "source": [
    "ds_ll = ds[['latitude', 'longitude', 'sla_filtered']].reset_coords().astype('f4').load()\n",
    "ds_ll"
   ]
  },
  {
   "cell_type": "markdown",
   "metadata": {},
   "source": [
    "Convert to pandas dataframe:"
   ]
  },
  {
   "cell_type": "code",
   "execution_count": null,
   "metadata": {},
   "outputs": [],
   "source": [
    "df = ds_ll.to_dataframe()\n",
    "df"
   ]
  },
  {
   "cell_type": "markdown",
   "metadata": {},
   "source": [
    "## Visualize with hvplot"
   ]
  },
  {
   "cell_type": "code",
   "execution_count": null,
   "metadata": {},
   "outputs": [],
   "source": [
    "df.hvplot.scatter(x='longitude', y='latitude', datashade=True, )"
   ]
  },
  {
   "cell_type": "markdown",
   "metadata": {},
   "source": [
    "## Bin using xhistogram\n",
    "\n",
    "https://xhistogram.readthedocs.io/"
   ]
  },
  {
   "cell_type": "code",
   "execution_count": null,
   "metadata": {},
   "outputs": [],
   "source": [
    "from xhistogram.xarray import histogram\n",
    "\n",
    "lon_bins = np.arange(0, 361, 2)\n",
    "lat_bins = np.arange(-70, 71, 2)\n",
    "\n",
    "# helps with memory management\n",
    "ds_ll_chunked = ds_ll.chunk({'time': '5MB'})\n",
    "\n",
    "sla_variance = histogram(ds_ll_chunked.longitude, ds_ll_chunked.latitude,\n",
    "                         bins=[lon_bins, lat_bins],\n",
    "                         weights=ds_ll_chunked.sla_filtered.fillna(0.)**2)\n",
    "\n",
    "norm = histogram(ds_ll_chunked.longitude, ds_ll_chunked.latitude,\n",
    "                         bins=[lon_bins, lat_bins])\n",
    "\n",
    "\n",
    "# let's get at least 200 points in a box for it to be unmasked\n",
    "thresh = 200\n",
    "sla_variance = sla_variance / norm.where(norm > thresh)\n",
    "sla_variance"
   ]
  },
  {
   "cell_type": "code",
   "execution_count": null,
   "metadata": {},
   "outputs": [],
   "source": [
    "sla_variance.load()"
   ]
  },
  {
   "cell_type": "code",
   "execution_count": null,
   "metadata": {},
   "outputs": [],
   "source": [
    "sla_variance.plot(x='longitude_bin', figsize=(12, 6), vmax=0.2)"
   ]
  },
  {
   "cell_type": "code",
   "execution_count": null,
   "metadata": {},
   "outputs": [],
   "source": []
  }
 ],
 "metadata": {
  "kernelspec": {
   "display_name": "Python 3",
   "language": "python",
   "name": "python3"
  },
  "language_info": {
   "codemirror_mode": {
    "name": "ipython",
    "version": 3
   },
   "file_extension": ".py",
   "mimetype": "text/x-python",
   "name": "python",
   "nbconvert_exporter": "python",
   "pygments_lexer": "ipython3",
   "version": "3.8.1"
  }
 },
 "nbformat": 4,
 "nbformat_minor": 4
}
